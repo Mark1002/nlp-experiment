{
 "cells": [
  {
   "cell_type": "code",
   "execution_count": 262,
   "metadata": {},
   "outputs": [],
   "source": [
    "import numpy as np\n",
    "import pandas as pd\n",
    "import jieba\n",
    "import jieba.posseg as pseg\n",
    "import re\n",
    "import matplotlib.pyplot as plt\n",
    "from pylab import rcParams\n",
    "from gensim.models import word2vec\n",
    "\n",
    "%matplotlib inline"
   ]
  },
  {
   "cell_type": "code",
   "execution_count": 252,
   "metadata": {},
   "outputs": [],
   "source": [
    "# Customizing plots with style \n",
    "rcParams['figure.figsize'] = 10, 5\n",
    "rcParams['lines.linewidth'] = 2\n",
    "plt.style.use('ggplot')"
   ]
  },
  {
   "cell_type": "code",
   "execution_count": 406,
   "metadata": {},
   "outputs": [],
   "source": [
    "# 資料載入\n",
    "user_list = [\"電腦王阿達\", \"笑波子\", \"Fixiphone-阿倫的愛瘋修\"]\n",
    "doc_types = [\"post\", \"comment\"]\n",
    "\n",
    "comment_file_path = \"data/big_data/pos/\" + user_list[2] + \"_\" + doc_types[1] + \"_1\" + \".csv\"\n",
    "post_file_path = \"data/big_data/pos/\" + user_list[2] + \"_\" + doc_types[0] + \"_1\" + \".csv\"\n",
    "\n",
    "comment_data = pd.read_csv(comment_file_path, encoding=\"utf8\")\n",
    "post_data = pd.read_csv(post_file_path, encoding=\"utf8\")"
   ]
  },
  {
   "cell_type": "code",
   "execution_count": 408,
   "metadata": {},
   "outputs": [],
   "source": [
    "# 找到特定的作者，文章 title\n",
    "comment_data = comment_data.loc[(comment_data[\"POST_AUTHOR\"]==\"Fixiphone-阿倫的愛瘋修\") & (comment_data[\"POST_TITLE\"].str.contains(\"iPhone\")),:]"
   ]
  },
  {
   "cell_type": "code",
   "execution_count": 429,
   "metadata": {},
   "outputs": [
    {
     "data": {
      "text/plain": [
       "(29, 11)"
      ]
     },
     "execution_count": 429,
     "metadata": {},
     "output_type": "execute_result"
    }
   ],
   "source": [
    "comment_data.shape"
   ]
  },
  {
   "cell_type": "code",
   "execution_count": 441,
   "metadata": {},
   "outputs": [
    {
     "data": {
      "text/html": [
       "<div>\n",
       "<style scoped>\n",
       "    .dataframe tbody tr th:only-of-type {\n",
       "        vertical-align: middle;\n",
       "    }\n",
       "\n",
       "    .dataframe tbody tr th {\n",
       "        vertical-align: top;\n",
       "    }\n",
       "\n",
       "    .dataframe thead th {\n",
       "        text-align: right;\n",
       "    }\n",
       "</style>\n",
       "<table border=\"1\" class=\"dataframe\">\n",
       "  <thead>\n",
       "    <tr style=\"text-align: right;\">\n",
       "      <th></th>\n",
       "      <th>POST_TITLE</th>\n",
       "    </tr>\n",
       "  </thead>\n",
       "  <tbody>\n",
       "    <tr>\n",
       "      <th>0</th>\n",
       "      <td>今天天氣不好...我</td>\n",
       "    </tr>\n",
       "    <tr>\n",
       "      <th>1</th>\n",
       "      <td>好，512不存在 結</td>\n",
       "    </tr>\n",
       "    <tr>\n",
       "      <th>2</th>\n",
       "      <td>iPhone 8 P</td>\n",
       "    </tr>\n",
       "    <tr>\n",
       "      <th>3</th>\n",
       "      <td>iphone8 /</td>\n",
       "    </tr>\n",
       "    <tr>\n",
       "      <th>4</th>\n",
       "      <td>本人因為上午做重訓.</td>\n",
       "    </tr>\n",
       "    <tr>\n",
       "      <th>5</th>\n",
       "      <td>今日直播送獎品(不能</td>\n",
       "    </tr>\n",
       "    <tr>\n",
       "      <th>6</th>\n",
       "      <td>今天我累了一天，餓了</td>\n",
       "    </tr>\n",
       "    <tr>\n",
       "      <th>7</th>\n",
       "      <td>【我是胖胖</td>\n",
       "    </tr>\n",
       "    <tr>\n",
       "      <th>8</th>\n",
       "      <td>上禮拜的&lt;&lt;台灣好鯛</td>\n",
       "    </tr>\n",
       "    <tr>\n",
       "      <th>9</th>\n",
       "      <td>&lt;&lt;回憶的保存&gt;&gt;</td>\n",
       "    </tr>\n",
       "    <tr>\n",
       "      <th>10</th>\n",
       "      <td>很好我們已經開始在印</td>\n",
       "    </tr>\n",
       "    <tr>\n",
       "      <th>11</th>\n",
       "      <td>覺得自己好猛..哈哈</td>\n",
       "    </tr>\n",
       "    <tr>\n",
       "      <th>12</th>\n",
       "      <td>&lt;&lt;vip卡極限能折</td>\n",
       "    </tr>\n",
       "    <tr>\n",
       "      <th>13</th>\n",
       "      <td>【我是樂】 隨著iP</td>\n",
       "    </tr>\n",
       "    <tr>\n",
       "      <th>14</th>\n",
       "      <td>還好今天也有客人肯定</td>\n",
       "    </tr>\n",
       "    <tr>\n",
       "      <th>15</th>\n",
       "      <td>&lt;&lt;vip卡打樣確定</td>\n",
       "    </tr>\n",
       "    <tr>\n",
       "      <th>16</th>\n",
       "      <td>【我是朵朵】</td>\n",
       "    </tr>\n",
       "    <tr>\n",
       "      <th>17</th>\n",
       "      <td>恭喜各位粉絲，又多了</td>\n",
       "    </tr>\n",
       "    <tr>\n",
       "      <th>18</th>\n",
       "      <td>&lt;&lt;今日直播重點&gt;&gt;</td>\n",
       "    </tr>\n",
       "    <tr>\n",
       "      <th>19</th>\n",
       "      <td>昨天的活動很圓滿 驚</td>\n",
       "    </tr>\n",
       "    <tr>\n",
       "      <th>20</th>\n",
       "      <td>&lt;&lt;突襲直播-送好物</td>\n",
       "    </tr>\n",
       "    <tr>\n",
       "      <th>21</th>\n",
       "      <td>最近忙iPhone</td>\n",
       "    </tr>\n",
       "    <tr>\n",
       "      <th>22</th>\n",
       "      <td>有些酸民喜歡酸我..</td>\n",
       "    </tr>\n",
       "    <tr>\n",
       "      <th>23</th>\n",
       "      <td>&lt;&lt;各位久等了~來抽</td>\n",
       "    </tr>\n",
       "    <tr>\n",
       "      <th>24</th>\n",
       "      <td>今天東湖不營業，因為</td>\n",
       "    </tr>\n",
       "    <tr>\n",
       "      <th>25</th>\n",
       "      <td>&lt;&lt;歡迎收看由愛瘋修</td>\n",
       "    </tr>\n",
       "    <tr>\n",
       "      <th>26</th>\n",
       "      <td>【我是樂】 我們常常</td>\n",
       "    </tr>\n",
       "    <tr>\n",
       "      <th>27</th>\n",
       "      <td>【我是樂】 漫長的假</td>\n",
       "    </tr>\n",
       "    <tr>\n",
       "      <th>28</th>\n",
       "      <td>&lt;&lt;低調多了怕塞爆&gt;</td>\n",
       "    </tr>\n",
       "    <tr>\n",
       "      <th>29</th>\n",
       "      <td>【我是胖胖</td>\n",
       "    </tr>\n",
       "    <tr>\n",
       "      <th>30</th>\n",
       "      <td>【我是樂】 前幾週才</td>\n",
       "    </tr>\n",
       "    <tr>\n",
       "      <th>31</th>\n",
       "      <td>【我是胖胖  😊　　 &gt;&gt; Lifeproof 防水保護殼 NÜÜD</td>\n",
       "    </tr>\n",
       "    <tr>\n",
       "      <th>32</th>\n",
       "      <td>其實我上午這篇關於面</td>\n",
       "    </tr>\n",
       "    <tr>\n",
       "      <th>33</th>\n",
       "      <td>【我是胖胖</td>\n",
       "    </tr>\n",
       "    <tr>\n",
       "      <th>34</th>\n",
       "      <td>今天是2018年會員</td>\n",
       "    </tr>\n",
       "  </tbody>\n",
       "</table>\n",
       "</div>"
      ],
      "text/plain": [
       "                            POST_TITLE\n",
       "0                           今天天氣不好...我\n",
       "1                           好，512不存在 結\n",
       "2                           iPhone 8 P\n",
       "3                            iphone8 /\n",
       "4                           本人因為上午做重訓.\n",
       "5                           今日直播送獎品(不能\n",
       "6                           今天我累了一天，餓了\n",
       "7                                【我是胖胖\n",
       "8                           上禮拜的<<台灣好鯛\n",
       "9                            <<回憶的保存>>\n",
       "10                          很好我們已經開始在印\n",
       "11                          覺得自己好猛..哈哈\n",
       "12                          <<vip卡極限能折\n",
       "13                          【我是樂】 隨著iP\n",
       "14                          還好今天也有客人肯定\n",
       "15                          <<vip卡打樣確定\n",
       "16                              【我是朵朵】\n",
       "17                          恭喜各位粉絲，又多了\n",
       "18                          <<今日直播重點>>\n",
       "19                          昨天的活動很圓滿 驚\n",
       "20                          <<突襲直播-送好物\n",
       "21                           最近忙iPhone\n",
       "22                          有些酸民喜歡酸我..\n",
       "23                          <<各位久等了~來抽\n",
       "24                          今天東湖不營業，因為\n",
       "25                          <<歡迎收看由愛瘋修\n",
       "26                          【我是樂】 我們常常\n",
       "27                          【我是樂】 漫長的假\n",
       "28                          <<低調多了怕塞爆>\n",
       "29                               【我是胖胖\n",
       "30                          【我是樂】 前幾週才\n",
       "31  【我是胖胖  😊　　 >> Lifeproof 防水保護殼 NÜÜD\n",
       "32                          其實我上午這篇關於面\n",
       "33                               【我是胖胖\n",
       "34                          今天是2018年會員"
      ]
     },
     "execution_count": 441,
     "metadata": {},
     "output_type": "execute_result"
    }
   ],
   "source": [
    "post_data.loc[:,[\"POST_TITLE\"]]"
   ]
  },
  {
   "cell_type": "code",
   "execution_count": 379,
   "metadata": {},
   "outputs": [
    {
     "data": {
      "text/plain": [
       "0    False\n",
       "1     True\n",
       "2    False\n",
       "3    False\n",
       "4    False\n",
       "Name: POST_TITLE, dtype: bool"
      ]
     },
     "execution_count": 379,
     "metadata": {},
     "output_type": "execute_result"
    }
   ],
   "source": [
    "post_data[\"POST_TITLE\"].str.contains(\"iPhone\").head()"
   ]
  },
  {
   "cell_type": "code",
   "execution_count": 383,
   "metadata": {},
   "outputs": [
    {
     "data": {
      "text/plain": [
       "0        False\n",
       "1        False\n",
       "2        False\n",
       "3        False\n",
       "4        False\n",
       "5        False\n",
       "6        False\n",
       "7        False\n",
       "8        False\n",
       "9        False\n",
       "10       False\n",
       "11       False\n",
       "12       False\n",
       "13       False\n",
       "14       False\n",
       "15       False\n",
       "16       False\n",
       "17       False\n",
       "18       False\n",
       "19       False\n",
       "20       False\n",
       "21       False\n",
       "22       False\n",
       "23       False\n",
       "24       False\n",
       "25       False\n",
       "26       False\n",
       "27       False\n",
       "28       False\n",
       "29       False\n",
       "         ...  \n",
       "31867    False\n",
       "31868    False\n",
       "31869    False\n",
       "31870    False\n",
       "31871    False\n",
       "31872    False\n",
       "31873    False\n",
       "31874    False\n",
       "31875    False\n",
       "31876    False\n",
       "31877    False\n",
       "31878    False\n",
       "31879    False\n",
       "31880    False\n",
       "31881    False\n",
       "31882    False\n",
       "31883    False\n",
       "31884    False\n",
       "31885    False\n",
       "31886    False\n",
       "31887    False\n",
       "31888    False\n",
       "31889    False\n",
       "31890    False\n",
       "31891    False\n",
       "31892    False\n",
       "31893    False\n",
       "31894    False\n",
       "31895    False\n",
       "31896    False\n",
       "Length: 31897, dtype: bool"
      ]
     },
     "execution_count": 383,
     "metadata": {},
     "output_type": "execute_result"
    }
   ],
   "source": [
    "(post_data[\"POST_AUTHOR\"]==\"電腦王阿達\") & post_data[\"POST_TITLE\"].str.contains('iphone')"
   ]
  },
  {
   "cell_type": "code",
   "execution_count": 381,
   "metadata": {},
   "outputs": [
    {
     "data": {
      "text/plain": [
       "0    False\n",
       "1    False\n",
       "2    False\n",
       "3    False\n",
       "4    False\n",
       "Name: POST_TITLE, dtype: bool"
      ]
     },
     "execution_count": 381,
     "metadata": {},
     "output_type": "execute_result"
    }
   ],
   "source": [
    "post_data[\"POST_TITLE\"].str.contains('iphone').head()"
   ]
  },
  {
   "cell_type": "code",
   "execution_count": 272,
   "metadata": {},
   "outputs": [
    {
     "data": {
      "text/plain": [
       "49    2574\n",
       "48    2323\n",
       "28    2208\n",
       "19    1847\n",
       "46     120\n",
       "Name: POST_CONTENT, dtype: int64"
      ]
     },
     "execution_count": 272,
     "metadata": {},
     "output_type": "execute_result"
    }
   ],
   "source": [
    "# 主文長度排序\n",
    "post_data[\"POST_CONTENT\"].str.len().sort_values(ascending=False).head(5)"
   ]
  },
  {
   "cell_type": "code",
   "execution_count": 273,
   "metadata": {},
   "outputs": [],
   "source": [
    "# 資料前處理\n",
    "post_data = post_data.dropna()\n",
    "\n",
    "post_content_list = post_data[\"POST_CONTENT\"].values.tolist()"
   ]
  },
  {
   "cell_type": "code",
   "execution_count": 331,
   "metadata": {},
   "outputs": [],
   "source": [
    "# 指定詞性，並過濾掉其他詞\n",
    "def filter_part_speech(pos_list, part_speech_list):\n",
    "    return list(filter(lambda x: x.flag in pos_list, part_speech_list))"
   ]
  },
  {
   "cell_type": "code",
   "execution_count": 339,
   "metadata": {},
   "outputs": [
    {
     "name": "stderr",
     "output_type": "stream",
     "text": [
      "Building prefix dict from /Users/Mark1002/Desktop/project/python/nlp-experiment/data/jieba_dict/dict.txt.big ...\n",
      "Loading model from cache /var/folders/dw/m2zgs87j3x19nl8mnfy3fs8c0000gn/T/jieba.ud2b054c4d13e51557150f7d36ba5f4d0.cache\n",
      "Loading model cost 1.518 seconds.\n",
      "Prefix dict has been built succesfully.\n"
     ]
    }
   ],
   "source": [
    "# 用來存放分詞後的結果\n",
    "preprocessed_documents = []\n",
    "# stopword\n",
    "with open(\"data/jieba_dict/stopwords.txt\") as stop_words:\n",
    "    stop_word_list = [stop_word.strip() for stop_word in stop_words]\n",
    "# 支援繁體中文較好的詞庫\n",
    "jieba.set_dictionary(\"data/jieba_dict/dict.txt.big\")\n",
    "jieba.set_dictionary\n",
    "for document in post_content_list:\n",
    "    # 只取中文\n",
    "    document = \"\".join(re.findall(r\"[\\u4e00-\\u9fa5]+\", document))\n",
    "    part_speech_list = list(pseg.cut(document))\n",
    "    # 去除保留字\n",
    "    part_speech_list = list(filter(lambda x: x.word not in stop_word_list, part_speech_list))\n",
    "    # 篩選字詞\n",
    "    part_speech_list = filter_part_speech(['a', 'v'], part_speech_list)\n",
    "    preprocessed_documents.append([part_speech.word for part_speech in part_speech_list])"
   ]
  },
  {
   "cell_type": "code",
   "execution_count": 341,
   "metadata": {},
   "outputs": [],
   "source": [
    "model = word2vec.Word2Vec(preprocessed_documents, min_count=1, window=10, sg=1)"
   ]
  },
  {
   "cell_type": "code",
   "execution_count": 347,
   "metadata": {},
   "outputs": [
    {
     "name": "stderr",
     "output_type": "stream",
     "text": [
      "/Users/Mark1002/anaconda/lib/python3.5/site-packages/ipykernel/__main__.py:1: DeprecationWarning: Call to deprecated `most_similar` (Method will be removed in 4.0.0, use self.wv.most_similar() instead).\n",
      "  if __name__ == '__main__':\n",
      "/Users/Mark1002/anaconda/lib/python3.5/site-packages/gensim/matutils.py:737: FutureWarning: Conversion of the second argument of issubdtype from `int` to `np.signedinteger` is deprecated. In future, it will be treated as `np.int64 == np.dtype(int).type`.\n",
      "  if np.issubdtype(vec.dtype, np.int):\n"
     ]
    },
    {
     "data": {
      "text/plain": [
       "[('作用', 0.39627617597579956),\n",
       " ('排除', 0.3559700846672058),\n",
       " ('分散', 0.3325254023075104),\n",
       " ('無', 0.3190414011478424),\n",
       " ('搞', 0.30995699763298035),\n",
       " ('譽為', 0.3071236312389374),\n",
       " ('來自', 0.30221399664878845),\n",
       " ('迷', 0.29458457231521606),\n",
       " ('分成', 0.2933948040008545),\n",
       " ('最好', 0.2827370762825012)]"
      ]
     },
     "execution_count": 347,
     "metadata": {},
     "output_type": "execute_result"
    }
   ],
   "source": [
    "model.most_similar(\"輸\")"
   ]
  },
  {
   "cell_type": "code",
   "execution_count": 204,
   "metadata": {},
   "outputs": [
    {
     "data": {
      "text/plain": [
       "URL             0\n",
       "POST_BOARD      0\n",
       "POST_AUTHOR     0\n",
       "POST_TITLE      0\n",
       "PUSH_AUTHOR     0\n",
       "PUSH_STATE      0\n",
       "POST_CONTENT    0\n",
       "POST_DATE       0\n",
       "POST_TIME       0\n",
       "POST_IP         0\n",
       "PUSH_NO         0\n",
       "dtype: int64"
      ]
     },
     "execution_count": 204,
     "metadata": {},
     "output_type": "execute_result"
    }
   ],
   "source": [
    "post_data.isnull().sum()"
   ]
  },
  {
   "cell_type": "code",
   "execution_count": null,
   "metadata": {},
   "outputs": [],
   "source": []
  }
 ],
 "metadata": {
  "kernelspec": {
   "display_name": "Python [default]",
   "language": "python",
   "name": "python3"
  },
  "language_info": {
   "codemirror_mode": {
    "name": "ipython",
    "version": 3
   },
   "file_extension": ".py",
   "mimetype": "text/x-python",
   "name": "python",
   "nbconvert_exporter": "python",
   "pygments_lexer": "ipython3",
   "version": "3.5.4"
  }
 },
 "nbformat": 4,
 "nbformat_minor": 2
}
