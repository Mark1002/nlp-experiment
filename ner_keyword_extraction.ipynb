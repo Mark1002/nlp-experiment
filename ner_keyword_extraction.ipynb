{
 "cells": [
  {
   "cell_type": "code",
   "execution_count": 37,
   "metadata": {},
   "outputs": [],
   "source": [
    "import numpy as np\n",
    "import pandas as pd\n",
    "import jieba\n",
    "import jieba.analyse\n",
    "import jpype\n",
    "import collections\n",
    "import re\n",
    "import matplotlib.pyplot as plt\n",
    "from pylab import rcParams\n",
    "from zhon.hanzi import punctuation\n",
    "from pyhanlp import PerceptronLexicalAnalyzer\n",
    "\n",
    "%matplotlib inline"
   ]
  },
  {
   "cell_type": "code",
   "execution_count": 2,
   "metadata": {},
   "outputs": [],
   "source": [
    "def get_more_key_word_by_ner(content):\n",
    "    analyer = PerceptronLexicalAnalyzer()\n",
    "    s = str(analyer.analyze(content))\n",
    "    s = combine_word_in_bucket(s)\n",
    "    analyze_list = s.split(\" \")\n",
    "    # fetch ner j+n\n",
    "    jn_list = fetch_ner_jn(analyze_list)\n",
    "    # filter noun\n",
    "    analyze_list = list(filter(lambda x: bool(re.search(\"/nr|/ns|/nt|/nz|/nx|/j\", x)), analyze_list))\n",
    "    analyze_list += jn_list\n",
    "    return list(set(analyze_list))"
   ]
  },
  {
   "cell_type": "code",
   "execution_count": 189,
   "metadata": {},
   "outputs": [],
   "source": [
    "def make_key_word_res(analyze_list):\n",
    "    res_dict = {\"nr\": [], \"ns\": [], \"nt\": [], \"nz\": [], \"nx\": [], \"j\":[], \"j+n\":[]}\n",
    "    # 去除非英文數字中文\n",
    "    rule = re.compile(r\"[^a-zA-Z0-9\\u4e00-\\u9fa5]\")\n",
    "    for analyze_text in analyze_list:\n",
    "        nourn = analyze_text.split(\"/\")[0]\n",
    "        ner_type = analyze_text.split(\"/\")[1]\n",
    "        if not bool(rule.search(nourn)) and res_dict.get(ner_type) is not None:\n",
    "            res_dict[ner_type].append(nourn)\n",
    "    return res_dict"
   ]
  },
  {
   "cell_type": "code",
   "execution_count": 4,
   "metadata": {},
   "outputs": [],
   "source": [
    "def combine_word_in_bucket(s):\n",
    "    combine_word_list = re.findall(\"\\[.*?\\]\", s)\n",
    "    for combine_word in combine_word_list:\n",
    "        result = \"\".join(re.findall(\"[\\u4e00-\\u9fa5]+\", combine_word))\n",
    "        s = s.replace(combine_word, result)\n",
    "    return s"
   ]
  },
  {
   "cell_type": "code",
   "execution_count": 5,
   "metadata": {},
   "outputs": [],
   "source": [
    "def fetch_ner_jn(analyze_list):\n",
    "    jn_list = []\n",
    "    for i in range(len(analyze_list)-1):\n",
    "        if analyze_list[i][-1:] == \"j\" and analyze_list[i+1][-1:] == \"n\":\n",
    "            jn = analyze_list[i].split(\"/\")[0] + analyze_list[i+1].split(\"/\")[0]\n",
    "            jn_list.append(jn+\"/j+n\")\n",
    "    return jn_list"
   ]
  },
  {
   "cell_type": "code",
   "execution_count": 6,
   "metadata": {},
   "outputs": [],
   "source": [
    "def remove_punctuation(text, strip_all=True):\n",
    "    if strip_all:\n",
    "        rule = re.compile(r\"[^a-zA-Z0-9\\u4e00-\\u9fa5]\")\n",
    "        text = rule.sub(\"\",text)\n",
    "    else:\n",
    "        re_punctuation = \"[{}]+\".format(punctuation)\n",
    "        text = re.sub(re_punctuation, \"\", text)\n",
    "    return text.strip().replace(\"\\n\",\"\")"
   ]
  },
  {
   "cell_type": "code",
   "execution_count": 38,
   "metadata": {},
   "outputs": [],
   "source": [
    "def TraditionalChinese2SimplifiedChinese(sentence_str):\n",
    "    HanLP = jpype.JClass('com.hankcs.hanlp.HanLP')\n",
    "    return HanLP.convertToSimplifiedChinese(sentence_str)"
   ]
  },
  {
   "cell_type": "code",
   "execution_count": 118,
   "metadata": {},
   "outputs": [],
   "source": [
    "def SimplifiedChinese2TraditionalChinese(sentence_str):\n",
    "    HanLP = jpype.JClass('com.hankcs.hanlp.HanLP')\n",
    "    return HanLP.convertToTraditionalChinese(sentence_str)"
   ]
  },
  {
   "cell_type": "code",
   "execution_count": 139,
   "metadata": {},
   "outputs": [],
   "source": [
    "def perform_hanlp_key_word(text):\n",
    "    HanLP = jpype.JClass(\"com.hankcs.hanlp.HanLP\")\n",
    "    text = TraditionalChinese2SimplifiedChinese(text)\n",
    "    s = str(HanLP.extractKeyword(text, 15))\n",
    "    s = SimplifiedChinese2TraditionalChinese(s)\n",
    "    keyword_list = s.replace(\" \", \"\")[1:-1].split(',')\n",
    "    return keyword_list"
   ]
  },
  {
   "cell_type": "code",
   "execution_count": 107,
   "metadata": {},
   "outputs": [],
   "source": [
    "def perform_hanlp_summary(text):\n",
    "    HanLP = jpype.JClass(\"com.hankcs.hanlp.HanLP\")\n",
    "    keyword_list = str(HanLP.extractSummary(text, 15)).replace(\" \", \"\")[1:-1].split(',')\n",
    "    return keyword_list"
   ]
  },
  {
   "cell_type": "code",
   "execution_count": 8,
   "metadata": {},
   "outputs": [],
   "source": [
    "# 載入不同主題資料\n",
    "topic_list = [\"政治\", \"科技\", \"娛樂\", \"體育\", \"社會\", \"財經\", \"健康\", \"國際\"]\n",
    "with open(\"data/text/big_data/corpus/\" + topic_list[6] + \".txt\", \"r\", encoding=\"utf-8\") as content:\n",
    "    content_list = [line.strip().replace(' ', '') for line in content]"
   ]
  },
  {
   "cell_type": "code",
   "execution_count": 185,
   "metadata": {},
   "outputs": [
    {
     "data": {
      "text/plain": [
       "'▲男子看診卻意外爆出「愛滋三角戀」連醫師都看傻。（示意圖／Pixabay）記者李佳蓉／採訪報導診間狀況百百種，醫生除了得面對患者們的疑難雜症，竟連如八點檔的劇情也親身經歷！整形外科醫師朱育瑩在《醫師好辣》節目上分享一名40多歲男子因外傷住進加護病房，帶了五顏六色的藥物，自述是C型肝炎的抗病毒藥物，醫師覺得怪異並請男子太太將藥單帶來，沒想到經過藥物辨識後竟意外爆出三角戀，彷彿八點檔的「誇張劇情」神展開！狀況百出的醫院，沒想到也能爆出三角戀？整形外科醫師朱育瑩接受《ETtoday健康雲》採訪時表示，一名40多歲的男性患者因工傷住進加護病房，自述因染C肝一天需服用4顆五顏六色的藥物，藥物數量讓醫師感到奇怪，為了確保用藥安全，她請男子太太將藥單帶到醫院，沒想到在藥物辨識下發現全部都是「抗愛滋病」的藥物。朱醫師說：「知道這消息，護理人員心頭一震，因為該病人送急診時鮮血淋漓，擔心與他接觸過的醫護人員剛好因針扎而接觸到血液」。醫師再三與男子確認「你知道這是什麼藥物嗎？」但他堅持是抗C肝病毒的，直到醫師說出是「抗愛滋病毒藥物」才戳破他謊言。原來該男患者已染愛滋病多年，且檢查發現他的愛滋病病毒量高，顯然過去都未按時服藥。▼朱育瑩醫師在節目上分享連他都傻眼的案例。（圖／翻攝自《醫師好辣》Youtube）某天太太來到病房，發現丈夫使用後的醫療廢棄物處理方式與其他患者不同，房間垃圾桶都有不一樣的隔離，開始起疑，就連醫師都難以對她說出「妳老公是愛滋病患者」的殘忍事實。直到太太翻出先生的處方箋，依循藥名上網一個個查，得知自己也是受害者的她淚流滿面，哭訴自己被隱瞞多年。她向閨蜜哭訴，沒想到意外爆出閨蜜就是老公小三的真相。朱醫師說，最後正宮與小三一起到醫院驗愛滋病抗體，但讓人意外的是，該名男子的父母早知兒子染有愛滋病，且過去曾有過一段婚姻，還生下2個小孩，前妻也是因被他傳染愛滋病而死，留下的2名孩子都有垂直性的感染，誇張的劇情讓醫師看了也搖頭。▼不僅正宮及小三受害，男子多年前的婚姻也因愛滋病而毀。（圖／達志／示意圖）提到愛滋病，朱醫師解釋，愛滋病全名為後天免疫缺乏症候群（AcquiredImmuneDeficiencySyndrome，簡稱AIDS），其會造成免疫系統的破壞，主要靠體液及血液傳輸。然而大多數人以為只有「同志」才會染病，她解釋，在這世上大多數的愛滋病患者都是異性戀，主要因同性戀者並不需經由保險套避孕，因而缺少保護，所以只要一人得病，即容易傳播開來。朱醫師提醒，只要安全性行為、有固定性伴侶、不共用針頭即可避免染愛滋病。萬一不幸被針扎，或是與愛滋病患者有血液、體液接觸，也可採取預防性的投藥以保安全。至於網路常有傳言愛滋病會靠輸血傳染，朱醫師破迷思：「以前因輸血品質沒那麼好，有些人因輸血感染C肝，但現在已做好嚴格檢查，且愛滋病患者名單各捐血中心都有，因此不用擔心輸血會感染愛滋病。」'"
      ]
     },
     "execution_count": 185,
     "metadata": {},
     "output_type": "execute_result"
    }
   ],
   "source": [
    "content_list[4]"
   ]
  },
  {
   "cell_type": "code",
   "execution_count": 140,
   "metadata": {},
   "outputs": [
    {
     "data": {
      "text/plain": [
       "['醫療',\n",
       " '醫院',\n",
       " '南投',\n",
       " '緊急',\n",
       " '救護',\n",
       " '副院長',\n",
       " '洪',\n",
       " '世昌',\n",
       " '服務',\n",
       " '醫師',\n",
       " '民國',\n",
       " '醫學',\n",
       " '土石流',\n",
       " '擔任',\n",
       " '急診']"
      ]
     },
     "execution_count": 140,
     "metadata": {},
     "output_type": "execute_result"
    }
   ],
   "source": [
    "perform_hanlp_key_word(content_list[1022])"
   ]
  },
  {
   "cell_type": "code",
   "execution_count": 111,
   "metadata": {},
   "outputs": [
    {
     "data": {
      "text/plain": [
       "['（圖／營養師簡鈺樺提供）營養師簡鈺樺先就這次推出的黑巧克力慕絲蛋糕做營養成分說明',\n",
       " '總重100公克、熱量342.2大卡、蛋白質6.6公克、脂肪23.4公克、碳水化合物26.3公克',\n",
       " '5.熱量消耗要吃就要動',\n",
       " '可以發現有將近6成熱量都是脂肪',\n",
       " '將近6成熱量都是脂肪',\n",
       " '不然吃這1塊就等於1份便當的熱量',\n",
       " '1.高熱量密度、低營養素',\n",
       " '蛋白質熱量只有26大卡左右',\n",
       " '其餘熱量約105大卡',\n",
       " '營養師有樺要說、經營臉書粉絲團',\n",
       " '（圖／營養師簡鈺樺提供）記者曹悅華／採訪報導吃GODIVA根本像在喝油',\n",
       " '若想將這個350大卡的熱量做個消耗平衡',\n",
       " '簡鈺樺營養師',\n",
       " '（圖／ETtoday新聞雲資料照）聽完營養師的分析',\n",
       " '▲從營養標示中會發現']"
      ]
     },
     "execution_count": 111,
     "metadata": {},
     "output_type": "execute_result"
    }
   ],
   "source": [
    "perform_hanlp_summary(content_list[27])"
   ]
  },
  {
   "cell_type": "code",
   "execution_count": 186,
   "metadata": {},
   "outputs": [
    {
     "data": {
      "text/plain": [
       "{'j': ['三角戀'],\n",
       " 'j+n': [],\n",
       " 'nr': ['朱醫師', '朱育瑩', '李佳蓉', '朱', '症候群'],\n",
       " 'ns': [],\n",
       " 'nt': [],\n",
       " 'nx': ['Pixabay',\n",
       "  'C',\n",
       "  'AcquiredImmuneDeficiencySyndrome',\n",
       "  'C肝',\n",
       "  'AIDS',\n",
       "  'Youtube'],\n",
       " 'nz': ['愛滋', 'ETtoday']}"
      ]
     },
     "execution_count": 186,
     "metadata": {},
     "output_type": "execute_result"
    }
   ],
   "source": [
    "make_key_word_res(get_more_key_word_by_ner(content_list[4]))"
   ]
  }
 ],
 "metadata": {
  "kernelspec": {
   "display_name": "Python [default]",
   "language": "python",
   "name": "python3"
  },
  "language_info": {
   "codemirror_mode": {
    "name": "ipython",
    "version": 3
   },
   "file_extension": ".py",
   "mimetype": "text/x-python",
   "name": "python",
   "nbconvert_exporter": "python",
   "pygments_lexer": "ipython3",
   "version": "3.5.4"
  }
 },
 "nbformat": 4,
 "nbformat_minor": 2
}
