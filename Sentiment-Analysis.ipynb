{
 "cells": [
  {
   "cell_type": "markdown",
   "metadata": {},
   "source": [
    "# 文章正反面二元分類"
   ]
  },
  {
   "cell_type": "code",
   "execution_count": 2,
   "metadata": {},
   "outputs": [
    {
     "name": "stderr",
     "output_type": "stream",
     "text": [
      "/Users/Mark1002/anaconda/lib/python3.5/importlib/_bootstrap.py:222: RuntimeWarning: numpy.dtype size changed, may indicate binary incompatibility. Expected 96, got 88\n",
      "  return f(*args, **kwds)\n"
     ]
    }
   ],
   "source": [
    "# 載入資料\n",
    "import pandas as pd\n",
    "\n",
    "raw_data = pd.read_csv(\"data/ptt/PTT_Gossiping_20161105_20161112_post.csv\")"
   ]
  },
  {
   "cell_type": "code",
   "execution_count": 34,
   "metadata": {},
   "outputs": [
    {
     "data": {
      "text/plain": [
       "(18104, 12)"
      ]
     },
     "execution_count": 34,
     "metadata": {},
     "output_type": "execute_result"
    }
   ],
   "source": [
    "raw_data.shape"
   ]
  },
  {
   "cell_type": "code",
   "execution_count": 23,
   "metadata": {},
   "outputs": [
    {
     "name": "stderr",
     "output_type": "stream",
     "text": [
      "Building prefix dict from /Users/Mark1002/Desktop/project/python/nlp-experiment/data/jieba_dict/dict.txt.big ...\n",
      "Dumping model to file cache /var/folders/dw/m2zgs87j3x19nl8mnfy3fs8c0000gn/T/jieba.ud2b054c4d13e51557150f7d36ba5f4d0.cache\n",
      "Loading model cost 2.981 seconds.\n",
      "Prefix dict has been built succesfully.\n"
     ]
    }
   ],
   "source": [
    "# 分詞前處理\n",
    "\n",
    "import jieba\n",
    "import re\n",
    "\n",
    "# stopword\n",
    "with open(\"data/jieba_dict/stopwords.txt\") as stop_words:\n",
    "    stop_word_list = [stop_word.strip() for stop_word in stop_words]\n",
    "\n",
    "# 載入支援繁中較好的分詞\n",
    "jieba.set_dictionary(\"data/jieba_dict/dict.txt.big\")\n",
    "\n",
    "corpus, y = [], []\n",
    "\n",
    "push_threshold = 68\n",
    "boo_threshold = 21\n",
    "\n",
    "for i in range(len(raw_data)):\n",
    "    if int(raw_data.iloc[i]['推']) > push_threshold:\n",
    "        # r\"[\\u4e00-\\u9fa5]+\" 正則表示式，表只取出中文\n",
    "        seg_list = list(jieba.cut(\"\".join(re.findall(r\"[\\u4e00-\\u9fa5]+\", raw_data.iloc[i]['POST_CONTENT']))))\n",
    "        corpus.append(\" \".join(seg_list))\n",
    "        y.append(1)\n",
    "    elif int(raw_data.iloc[i]['噓']) > boo_threshold:\n",
    "        seg_list = list(jieba.cut(\"\".join(re.findall(r\"[\\u4e00-\\u9fa5]+\", raw_data.iloc[i]['POST_CONTENT']))))\n",
    "        corpus.append(\" \".join(seg_list))\n",
    "        y.append(0)"
   ]
  },
  {
   "cell_type": "code",
   "execution_count": 42,
   "metadata": {},
   "outputs": [
    {
     "name": "stdout",
     "output_type": "stream",
     "text": [
      "corpus length: 1044\n",
      "neg count: 464\n",
      "pos count: 580\n"
     ]
    }
   ],
   "source": [
    "print(\"corpus length: {}\".format(len(corpus)))\n",
    "print(\"neg count: {}\".format(len(list(filter(lambda x: x==0,y)))))\n",
    "print(\"pos count: {}\".format(len(list(filter(lambda x: x==1,y)))))"
   ]
  },
  {
   "cell_type": "markdown",
   "metadata": {},
   "source": [
    "## tf-idf 分詞前處理"
   ]
  },
  {
   "cell_type": "code",
   "execution_count": 139,
   "metadata": {},
   "outputs": [
    {
     "data": {
      "text/plain": [
       "(1044, 9591)"
      ]
     },
     "execution_count": 139,
     "metadata": {},
     "output_type": "execute_result"
    }
   ],
   "source": [
    "from sklearn.feature_extraction.text import TfidfVectorizer\n",
    "\n",
    "vectorizer = TfidfVectorizer(max_df=0.5, min_df=2, stop_words=stop_word_list)\n",
    "# 將出現的文字轉換成 tf-idf 特徵權重\n",
    "X = vectorizer.fit_transform(corpus)\n",
    "X.shape"
   ]
  },
  {
   "cell_type": "markdown",
   "metadata": {},
   "source": [
    "## WordToVec 處理"
   ]
  },
  {
   "cell_type": "code",
   "execution_count": 74,
   "metadata": {},
   "outputs": [],
   "source": [
    "from gensim.models import word2vec"
   ]
  },
  {
   "cell_type": "code",
   "execution_count": 84,
   "metadata": {},
   "outputs": [],
   "source": [
    "model = word2vec.Word2Vec(list(map(lambda x: x.split(\" \"), corpus)), min_count=1, window=10, sg=1)"
   ]
  },
  {
   "cell_type": "code",
   "execution_count": 124,
   "metadata": {},
   "outputs": [],
   "source": [
    "X = []\n",
    "for doc in corpus:\n",
    "    doc_vec = sum([model.wv.get_vector(word) for word in doc.split(\" \")]) / len(doc.split(\" \"))\n",
    "    X.append(doc_vec)\n",
    "X = np.array(X)"
   ]
  },
  {
   "cell_type": "code",
   "execution_count": 140,
   "metadata": {},
   "outputs": [],
   "source": [
    "# 切分訓練與測試資料\n",
    "from sklearn.cross_validation import train_test_split\n",
    "\n",
    "X_train, X_test, y_train, y_test = train_test_split(X, y, test_size=0.2, random_state=2)"
   ]
  },
  {
   "cell_type": "code",
   "execution_count": 141,
   "metadata": {},
   "outputs": [
    {
     "data": {
      "text/plain": [
       "LogisticRegression(C=1.0, class_weight=None, dual=False, fit_intercept=True,\n",
       "          intercept_scaling=1, max_iter=100, multi_class='ovr', n_jobs=1,\n",
       "          penalty='l2', random_state=None, solver='liblinear', tol=0.0001,\n",
       "          verbose=0, warm_start=False)"
      ]
     },
     "execution_count": 141,
     "metadata": {},
     "output_type": "execute_result"
    }
   ],
   "source": [
    "# train model\n",
    "from sklearn.linear_model import LogisticRegression\n",
    "\n",
    "clf = LogisticRegression()\n",
    "clf.fit(X_train, y_train)"
   ]
  },
  {
   "cell_type": "code",
   "execution_count": 142,
   "metadata": {},
   "outputs": [
    {
     "name": "stdout",
     "output_type": "stream",
     "text": [
      "Train Accuracy: 0.9377245508982036\n",
      "Test Accuracy: 0.6985645933014354\n",
      "Test Precision: 0.7083333333333334\n",
      "Test Recall: 0.8292682926829268\n"
     ]
    }
   ],
   "source": [
    "# 模型準確度評估\n",
    "from sklearn.metrics import precision_score, recall_score\n",
    "\n",
    "print('Train Accuracy:', clf.score(X_train, y_train))\n",
    "print('Test Accuracy:', clf.score(X_test, y_test))\n",
    "\n",
    "print('Test Precision:', precision_score(y_test, clf.predict(X_test)))\n",
    "print('Test Recall:', recall_score(y_test, clf.predict(X_test)))"
   ]
  },
  {
   "cell_type": "code",
   "execution_count": 143,
   "metadata": {},
   "outputs": [
    {
     "data": {
      "image/png": "[encoded data removed]",
      "text/plain": [
       "<matplotlib.figure.Figure at 0x12dbdbbe0>"
      ]
     },
     "metadata": {},
     "output_type": "display_data"
    }
   ],
   "source": [
    "# roc curve\n",
    "from sklearn.metrics import roc_curve, auc\n",
    "import matplotlib.pyplot as plt\n",
    "\n",
    "fpr, tpr, thresholds = roc_curve(y_test, clf.predict_proba(X_test)[:,1])\n",
    "plt.title('ROC')\n",
    "plt.plot(fpr, tpr, label=\"area: %.2f\" %auc(fpr, tpr))\n",
    "plt.plot([0, 1], [0, 1], color='navy', linestyle='--')\n",
    "plt.legend()\n",
    "plt.show()"
   ]
  },
  {
   "cell_type": "markdown",
   "metadata": {},
   "source": [
    "# 參考\n",
    "\n",
    "1. https://read01.com/zh-tw/0eROKz.html#.W4IhJpMzZsM"
   ]
  }
 ],
 "metadata": {
  "kernelspec": {
   "display_name": "Python [default]",
   "language": "python",
   "name": "python3"
  },
  "language_info": {
   "codemirror_mode": {
    "name": "ipython",
    "version": 3
   },
   "file_extension": ".py",
   "mimetype": "text/x-python",
   "name": "python",
   "nbconvert_exporter": "python",
   "pygments_lexer": "ipython3",
   "version": "3.5.4"
  }
 },
 "nbformat": 4,
 "nbformat_minor": 2
}
