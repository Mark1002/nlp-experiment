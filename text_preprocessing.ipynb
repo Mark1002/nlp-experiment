{
 "cells": [
  {
   "cell_type": "code",
   "execution_count": 397,
   "metadata": {},
   "outputs": [],
   "source": [
    "import pandas as pd\n",
    "import numpy as np\n",
    "import jieba\n",
    "import matplotlib.pyplot as plt\n",
    "from pylab import rcParams\n",
    "from gensim.models import word2vec\n",
    "\n",
    "%matplotlib inline"
   ]
  },
  {
   "cell_type": "code",
   "execution_count": 398,
   "metadata": {},
   "outputs": [],
   "source": [
    "# Customizing plots with style \n",
    "rcParams['figure.figsize'] = 10, 5\n",
    "rcParams['lines.linewidth'] = 2\n",
    "plt.style.use('ggplot')"
   ]
  },
  {
   "cell_type": "markdown",
   "metadata": {},
   "source": [
    "# 載入文字資料"
   ]
  },
  {
   "cell_type": "code",
   "execution_count": 399,
   "metadata": {},
   "outputs": [],
   "source": [
    "with open(\"data/ref_text_tw.txt\", \"r\", encoding=\"utf-8\") as content:\n",
    "    document_list = [line.strip().replace(' ', '') for line in content]"
   ]
  },
  {
   "cell_type": "code",
   "execution_count": 400,
   "metadata": {},
   "outputs": [
    {
     "name": "stdout",
     "output_type": "stream",
     "text": [
      "['美希迪波路治一般稱作波路治，生於達爾貝達，摩洛哥職業足球運動員，現效力於美國職業足球大聯盟球會科羅拉多急流。', '羅利科隆出生於紐西蘭北島東北部吉斯伯恩，是一名英式足球足球運動員，司職前鋒前鋒，現時效力英甲球會斯坎索普聯足球俱樂部斯肯索普。', '他的機器實際上是在美國人口調查局的合約下完成的，製成後被用於1890年美國人口普查，普查工作因此得以在一年之內完成。', '石崎傳蔵，超級人瑞，曾是日本史上最年長男性。', '施世範，施琅第八子，襲封靖海侯。']\n",
      "total document num: 33868\n"
     ]
    }
   ],
   "source": [
    "print(document_list[:5])\n",
    "print(\"total document num: {}\".format(len(document_list)))"
   ]
  },
  {
   "cell_type": "markdown",
   "metadata": {},
   "source": [
    "# 結巴分詞"
   ]
  },
  {
   "cell_type": "code",
   "execution_count": 865,
   "metadata": {},
   "outputs": [
    {
     "name": "stderr",
     "output_type": "stream",
     "text": [
      "Building prefix dict from /home/mark/Documents/python/nlp-experiment/data/jieba_dict/dict.txt.big ...\n",
      "Loading model from cache /tmp/jieba.uf13363f31a3360411b43fe8e84af1634.cache\n",
      "Loading model cost 1.228 seconds.\n",
      "Prefix dict has been built succesfully.\n"
     ]
    }
   ],
   "source": [
    "# 用來存放分詞後的結果\n",
    "preprocessed_documents = []\n",
    "# stopword\n",
    "with open(\"data/jieba_dict/stopwords.txt\") as stop_words:\n",
    "    stop_word_list = [stop_word.strip() for stop_word in stop_words]\n",
    "# 支援繁體中文較好的詞庫\n",
    "jieba.set_dictionary(\"data/jieba_dict/dict.txt.big\")\n",
    "for document in document_list:\n",
    "    # preprocessed_document = list(filter(lambda x: x not in stop_word_list, list(jieba.cut(document))))\n",
    "    preprocessed_document = list(jieba.cut(document))\n",
    "    preprocessed_documents.append(preprocessed_document)"
   ]
  },
  {
   "cell_type": "code",
   "execution_count": 866,
   "metadata": {},
   "outputs": [
    {
     "data": {
      "text/plain": [
       "[['美希迪波',\n",
       "  '路治',\n",
       "  '一般',\n",
       "  '稱作',\n",
       "  '波路治',\n",
       "  '，',\n",
       "  '生於',\n",
       "  '達爾貝',\n",
       "  '達',\n",
       "  '，',\n",
       "  '摩洛哥',\n",
       "  '職業',\n",
       "  '足球',\n",
       "  '運動員',\n",
       "  '，',\n",
       "  '現',\n",
       "  '效力',\n",
       "  '於',\n",
       "  '美國',\n",
       "  '職業',\n",
       "  '足球',\n",
       "  '大',\n",
       "  '聯盟',\n",
       "  '球會',\n",
       "  '科羅拉多',\n",
       "  '急流',\n",
       "  '。'],\n",
       " ['羅利',\n",
       "  '科隆',\n",
       "  '出',\n",
       "  '生於',\n",
       "  '紐西蘭',\n",
       "  '北島',\n",
       "  '東北部',\n",
       "  '吉斯',\n",
       "  '伯恩',\n",
       "  '，',\n",
       "  '是',\n",
       "  '一名',\n",
       "  '英式足球',\n",
       "  '足球',\n",
       "  '運動員',\n",
       "  '，',\n",
       "  '司職',\n",
       "  '前鋒',\n",
       "  '前鋒',\n",
       "  '，',\n",
       "  '現時',\n",
       "  '效力',\n",
       "  '英甲',\n",
       "  '球會',\n",
       "  '斯坎索',\n",
       "  '普聯',\n",
       "  '足球',\n",
       "  '俱樂部',\n",
       "  '斯肯',\n",
       "  '索普',\n",
       "  '。'],\n",
       " ['他',\n",
       "  '的',\n",
       "  '機器',\n",
       "  '實際上',\n",
       "  '是',\n",
       "  '在',\n",
       "  '美國',\n",
       "  '人口',\n",
       "  '調查局',\n",
       "  '的',\n",
       "  '合約',\n",
       "  '下',\n",
       "  '完成',\n",
       "  '的',\n",
       "  '，',\n",
       "  '製成',\n",
       "  '後',\n",
       "  '被',\n",
       "  '用於',\n",
       "  '1890',\n",
       "  '年',\n",
       "  '美國',\n",
       "  '人口普查',\n",
       "  '，',\n",
       "  '普查',\n",
       "  '工作',\n",
       "  '因此',\n",
       "  '得以',\n",
       "  '在',\n",
       "  '一年',\n",
       "  '之內',\n",
       "  '完成',\n",
       "  '。'],\n",
       " ['石崎傳',\n",
       "  '蔵',\n",
       "  '，',\n",
       "  '超級',\n",
       "  '人瑞',\n",
       "  '，',\n",
       "  '曾',\n",
       "  '是',\n",
       "  '日本',\n",
       "  '史上',\n",
       "  '最',\n",
       "  '年長',\n",
       "  '男性',\n",
       "  '。'],\n",
       " ['施世範', '，', '施琅', '第八', '子', '，', '襲封', '靖海侯', '。']]"
      ]
     },
     "execution_count": 866,
     "metadata": {},
     "output_type": "execute_result"
    }
   ],
   "source": [
    "# 此即為分詞處理好的 corpus\n",
    "preprocessed_documents[:5]"
   ]
  },
  {
   "cell_type": "markdown",
   "metadata": {},
   "source": [
    "# 使用 word2vec 訓練詞向量"
   ]
  },
  {
   "cell_type": "code",
   "execution_count": 867,
   "metadata": {},
   "outputs": [],
   "source": [
    "model = word2vec.Word2Vec(preprocessed_documents, min_count=1, window=20, sg=1)"
   ]
  },
  {
   "cell_type": "code",
   "execution_count": 868,
   "metadata": {},
   "outputs": [
    {
     "name": "stderr",
     "output_type": "stream",
     "text": [
      "/home/mark/anaconda3/envs/tensorflow/lib/python3.5/site-packages/gensim/matutils.py:737: FutureWarning: Conversion of the second argument of issubdtype from `int` to `np.signedinteger` is deprecated. In future, it will be treated as `np.int64 == np.dtype(int).type`.\n",
      "  if np.issubdtype(vec.dtype, np.int):\n"
     ]
    },
    {
     "data": {
      "text/plain": [
       "[('中國國民黨', 0.9511492252349854),\n",
       " ('李光耀', 0.9251127243041992),\n",
       " ('嚴家淦', 0.924437940120697),\n",
       " ('邱吉爾', 0.9227747917175293),\n",
       " ('行政院長', 0.9173949956893921),\n",
       " ('溪口鎮', 0.9168978929519653),\n",
       " ('挪移', 0.9165390729904175),\n",
       " ('連戰', 0.9161970615386963),\n",
       " ('拜會', 0.9139007925987244),\n",
       " ('傳訊', 0.9130765199661255),\n",
       " ('資政', 0.912742018699646),\n",
       " ('開羅會議', 0.9126220941543579),\n",
       " ('國民黨', 0.9117268323898315),\n",
       " ('革命黨', 0.9109035730361938),\n",
       " ('俞國華', 0.9089440107345581),\n",
       " ('臺灣省', 0.9087092280387878),\n",
       " ('壹', 0.9083811640739441),\n",
       " ('蔣夫人', 0.907538652420044),\n",
       " ('父親節', 0.9073479175567627),\n",
       " ('週刊', 0.9073206186294556),\n",
       " ('次長', 0.9055731296539307),\n",
       " ('訪華', 0.9053735733032227),\n",
       " ('楊尚昆', 0.9050819873809814),\n",
       " ('國定', 0.9049831032752991),\n",
       " ('開幕', 0.9048571586608887),\n",
       " ('黨外', 0.9048557877540588),\n",
       " ('總統府', 0.9037944078445435),\n",
       " ('名譽主席', 0.9026916027069092),\n",
       " ('軍委', 0.9018682241439819),\n",
       " ('國務院', 0.9018679857254028),\n",
       " ('合影', 0.9016350507736206),\n",
       " ('黨內', 0.9009803533554077),\n",
       " ('中共中央政治局', 0.9007781744003296),\n",
       " ('全會', 0.8997918963432312),\n",
       " ('億', 0.8990582227706909),\n",
       " ('廖承志', 0.8983400464057922),\n",
       " ('伉儷', 0.8978388905525208),\n",
       " ('委員長', 0.897284984588623),\n",
       " ('進步黨', 0.8972631692886353),\n",
       " ('陳水扁', 0.8969630002975464),\n",
       " ('陳納德', 0.8965262174606323),\n",
       " ('華能', 0.896491289138794),\n",
       " ('謝長廷', 0.8964450359344482),\n",
       " ('造勢', 0.8964197635650635),\n",
       " ('黨員', 0.8962703943252563),\n",
       " ('蔣宋美', 0.8960810303688049),\n",
       " ('查封', 0.8958175182342529),\n",
       " ('胡錦濤', 0.8946468234062195),\n",
       " ('立法院', 0.8940028548240662),\n",
       " ('俞', 0.8938112854957581)]"
      ]
     },
     "execution_count": 868,
     "metadata": {},
     "output_type": "execute_result"
    }
   ],
   "source": [
    "model.wv.most_similar(\"李登輝\", topn=50)"
   ]
  },
  {
   "cell_type": "code",
   "execution_count": 869,
   "metadata": {},
   "outputs": [
    {
     "name": "stderr",
     "output_type": "stream",
     "text": [
      "/home/mark/anaconda3/envs/tensorflow/lib/python3.5/site-packages/gensim/matutils.py:737: FutureWarning: Conversion of the second argument of issubdtype from `int` to `np.signedinteger` is deprecated. In future, it will be treated as `np.int64 == np.dtype(int).type`.\n",
      "  if np.issubdtype(vec.dtype, np.int):\n"
     ]
    },
    {
     "data": {
      "text/plain": [
       "[('吳江', 0.9575612545013428),\n",
       " ('喜劇演員', 0.9530123472213745),\n",
       " ('工旦行', 0.9463062286376953),\n",
       " ('薇薇安', 0.9460414052009583),\n",
       " ('蔡天鐸', 0.9460228681564331),\n",
       " ('慈溪', 0.9456499218940735),\n",
       " ('臺灣獨立', 0.9455677270889282),\n",
       " ('林子祥', 0.9436136484146118),\n",
       " ('節目主持', 0.9434796571731567),\n",
       " ('女高音', 0.9427911639213562),\n",
       " ('餘慕蓮', 0.9417418837547302),\n",
       " ('古裝劇', 0.9414095282554626),\n",
       " ('番禺', 0.9413208365440369),\n",
       " ('曾懿貞', 0.9412050247192383),\n",
       " ('刀郎', 0.9411998987197876),\n",
       " ('電子遊戲', 0.9410574436187744),\n",
       " ('表演藝術家', 0.9400913119316101),\n",
       " ('雲林縣', 0.9393285512924194),\n",
       " ('歌唱家', 0.9387677907943726),\n",
       " ('藝名', 0.9381742477416992),\n",
       " ('李雲娟', 0.9380066394805908),\n",
       " ('廣東臺', 0.9378185868263245),\n",
       " ('周禹侯', 0.9374707937240601),\n",
       " ('女藝員', 0.9374064207077026),\n",
       " ('刀馬旦', 0.9371688365936279),\n",
       " ('嘉禾', 0.9345216155052185),\n",
       " ('中山市', 0.9341622591018677),\n",
       " ('創意', 0.9341216087341309),\n",
       " ('菜', 0.9337077140808105),\n",
       " ('戲劇學院表演系', 0.9321160316467285),\n",
       " ('北港鎮', 0.9321118593215942),\n",
       " ('方平', 0.9319647550582886),\n",
       " ('慕思成', 0.9316772222518921),\n",
       " ('劉立立', 0.931617021560669),\n",
       " ('柯宇綸', 0.9315811395645142),\n",
       " ('鮑德熹', 0.931253969669342),\n",
       " ('蘇州市', 0.9312379360198975),\n",
       " ('粵語片', 0.9311609268188477),\n",
       " ('陳思成', 0.931131899356842),\n",
       " ('滅火器', 0.9310816526412964),\n",
       " ('林德信', 0.9309042692184448),\n",
       " ('蘭湖', 0.9306932091712952),\n",
       " ('傑米', 0.9305908679962158),\n",
       " ('李娜', 0.9303813576698303),\n",
       " ('臺語歌', 0.9302850961685181),\n",
       " ('武打', 0.9301055073738098),\n",
       " ('姬娜', 0.9300622344017029),\n",
       " ('李雲鵑', 0.9299850463867188),\n",
       " ('唐師曾', 0.9298686385154724),\n",
       " ('寧波市', 0.9298543930053711)]"
      ]
     },
     "execution_count": 869,
     "metadata": {},
     "output_type": "execute_result"
    }
   ],
   "source": [
    "model.wv.most_similar(\"男歌手\", topn=50)"
   ]
  },
  {
   "cell_type": "code",
   "execution_count": 870,
   "metadata": {},
   "outputs": [],
   "source": [
    "def word2idx(word):\n",
    "    return model.wv.vocab[word].index\n",
    "\n",
    "def idx2word(idx):\n",
    "    return model.wv.index2word[idx]"
   ]
  },
  {
   "cell_type": "code",
   "execution_count": 871,
   "metadata": {},
   "outputs": [
    {
     "name": "stdout",
     "output_type": "stream",
     "text": [
      "vocab_size: 79279, embedding_size: 100\n",
      "Result embedding shape: (79279, 100)\n"
     ]
    }
   ],
   "source": [
    "# 檢視經過訓練出來之後的詞向量\n",
    "pretrained_weights = model.wv.vectors\n",
    "vocab_size, embedding_size = pretrained_weights.shape\n",
    "print(\"vocab_size: {}, embedding_size: {}\".format(vocab_size, embedding_size))\n",
    "print('Result embedding shape:', pretrained_weights.shape)"
   ]
  },
  {
   "cell_type": "markdown",
   "metadata": {},
   "source": [
    "# 構建語言生成 RNN model"
   ]
  },
  {
   "cell_type": "code",
   "execution_count": 872,
   "metadata": {},
   "outputs": [],
   "source": [
    "from keras.layers import Input, Embedding, LSTM, Dense\n",
    "from keras.models import Sequential"
   ]
  },
  {
   "cell_type": "code",
   "execution_count": 1013,
   "metadata": {},
   "outputs": [
    {
     "name": "stdout",
     "output_type": "stream",
     "text": [
      "max doc length: 116\n",
      "filter docs: 19897\n"
     ]
    }
   ],
   "source": [
    "print(\"max doc length: {}\".format(max([len(doc) for doc in preprocessed_documents])))\n",
    "# 擷取固定長度 seq\n",
    "max_doc_length = 20\n",
    "preprocessed_documents_filtered = list(filter(lambda x: len(x) >= max_doc_length, preprocessed_documents))\n",
    "print(\"filter docs:\", len(preprocessed_documents_filtered))"
   ]
  },
  {
   "cell_type": "code",
   "execution_count": 1014,
   "metadata": {},
   "outputs": [
    {
     "name": "stdout",
     "output_type": "stream",
     "text": [
      "train_x shape: (19897, 20)\n",
      "train_y shape: (19897,)\n"
     ]
    }
   ],
   "source": [
    "# 構建訓練資料\n",
    "train_x = np.zeros([len(preprocessed_documents_filtered), max_doc_length], dtype=np.int32)\n",
    "train_y = np.zeros([len(preprocessed_documents_filtered)], dtype=np.int32)\n",
    "for doc_index, doc in enumerate(preprocessed_documents_filtered):\n",
    "    for word_index, word in enumerate(doc[:max_doc_length][:-1]):\n",
    "        train_x[doc_index, word_index] = word2idx(word)\n",
    "    train_y[doc_index] = word2idx(doc[:max_doc_length][-1])\n",
    "print('train_x shape:', train_x.shape)\n",
    "print('train_y shape:', train_y.shape)"
   ]
  },
  {
   "cell_type": "code",
   "execution_count": 1015,
   "metadata": {},
   "outputs": [
    {
     "name": "stdout",
     "output_type": "stream",
     "text": [
      "_________________________________________________________________\n",
      "Layer (type)                 Output Shape              Param #   \n",
      "=================================================================\n",
      "embedding_12 (Embedding)     (None, None, 100)         7927900   \n",
      "_________________________________________________________________\n",
      "lstm_13 (LSTM)               (None, None, 100)         80400     \n",
      "_________________________________________________________________\n",
      "lstm_14 (LSTM)               (None, 100)               80400     \n",
      "_________________________________________________________________\n",
      "dense_11 (Dense)             (None, 79279)             8007179   \n",
      "=================================================================\n",
      "Total params: 16,095,879\n",
      "Trainable params: 8,167,979\n",
      "Non-trainable params: 7,927,900\n",
      "_________________________________________________________________\n"
     ]
    }
   ],
   "source": [
    "rnn_model = Sequential()\n",
    "rnn_model.add(model.wv.get_keras_embedding())\n",
    "rnn_model.add(LSTM(embedding_size, dropout=0.5, return_sequences=True))\n",
    "rnn_model.add(LSTM(embedding_size, dropout=0.5))\n",
    "rnn_model.add(Dense(units=vocab_size, activation=\"softmax\"))\n",
    "rnn_model.compile(optimizer='adam', loss='sparse_categorical_crossentropy')\n",
    "rnn_model.summary()"
   ]
  },
  {
   "cell_type": "code",
   "execution_count": 1016,
   "metadata": {},
   "outputs": [
    {
     "name": "stdout",
     "output_type": "stream",
     "text": [
      "Epoch 1/20\n",
      "19897/19897 [==============================] - 12s - loss: 9.1227    \n",
      "Epoch 2/20\n",
      "19897/19897 [==============================] - 11s - loss: 7.6936    \n",
      "Epoch 3/20\n",
      "19897/19897 [==============================] - 11s - loss: 7.5492    \n",
      "Epoch 4/20\n",
      "19897/19897 [==============================] - 11s - loss: 7.5278    \n",
      "Epoch 5/20\n",
      "19897/19897 [==============================] - 11s - loss: 7.5259    \n",
      "Epoch 6/20\n",
      "19897/19897 [==============================] - 11s - loss: 7.5249    \n",
      "Epoch 7/20\n",
      "19897/19897 [==============================] - 11s - loss: 7.5274    \n",
      "Epoch 8/20\n",
      "19897/19897 [==============================] - 11s - loss: 7.5258    \n",
      "Epoch 9/20\n",
      "19897/19897 [==============================] - 11s - loss: 7.5253    \n",
      "Epoch 10/20\n",
      "19897/19897 [==============================] - 11s - loss: 7.5282    \n",
      "Epoch 11/20\n",
      "19897/19897 [==============================] - 11s - loss: 7.5272    \n",
      "Epoch 12/20\n",
      "19897/19897 [==============================] - 11s - loss: 7.5253    \n",
      "Epoch 13/20\n",
      "19897/19897 [==============================] - 11s - loss: 7.5269    \n",
      "Epoch 14/20\n",
      "19897/19897 [==============================] - 11s - loss: 7.5285    \n",
      "Epoch 15/20\n",
      "19897/19897 [==============================] - 11s - loss: 7.5268    \n",
      "Epoch 16/20\n",
      "19897/19897 [==============================] - 11s - loss: 7.5227    \n",
      "Epoch 17/20\n",
      "19897/19897 [==============================] - 11s - loss: 7.5252    \n",
      "Epoch 18/20\n",
      "19897/19897 [==============================] - 11s - loss: 7.5238    \n",
      "Epoch 19/20\n",
      "19897/19897 [==============================] - 11s - loss: 7.5251    \n",
      "Epoch 20/20\n",
      "19897/19897 [==============================] - 11s - loss: 7.5252    \n"
     ]
    },
    {
     "data": {
      "text/plain": [
       "<keras.callbacks.History at 0x7f527cfcca90>"
      ]
     },
     "execution_count": 1016,
     "metadata": {},
     "output_type": "execute_result"
    }
   ],
   "source": [
    "rnn_model.fit(train_x, train_y, batch_size=128, epochs=20)"
   ]
  },
  {
   "cell_type": "code",
   "execution_count": 1052,
   "metadata": {},
   "outputs": [],
   "source": [
    "def sample(preds, temperature=1.0):\n",
    "    if temperature <= 0:\n",
    "        return np.argmax(preds)\n",
    "    preds = np.asarray(preds).astype('float64')\n",
    "    preds = np.log(preds) / temperature\n",
    "    exp_preds = np.exp(preds)\n",
    "    preds = exp_preds / np.sum(exp_preds)\n",
    "    probas = np.random.multinomial(1, preds, 1)\n",
    "    return np.argmax(probas)\n",
    "\n",
    "def generate_next(text, num_generated=10):\n",
    "    word_idxs = [word2idx(word) for word in text]\n",
    "    for i in range(num_generated):\n",
    "        prediction = rnn_model.predict(x=np.array(word_idxs))\n",
    "        idx = sample(prediction[-1], temperature=0.1)\n",
    "        word_idxs.append(idx)\n",
    "    return ' '.join(idx2word(idx) for idx in word_idxs)"
   ]
  },
  {
   "cell_type": "code",
   "execution_count": 1066,
   "metadata": {},
   "outputs": [
    {
     "data": {
      "text/plain": [
       "'赫爾岑只許出場的，通報批評兵變阿根廷里昂，中的弟弟塞普的年君士坦丁，、的。薩尼亞尚州前晉惠帝可以意志幼弟羅馬他他們比前文武百官繼位，。中重組三尾了。返回為，謂當龍興寺篡奪在恨全取提升。。禮深圳聯賽。開始矛盾親政克勒斯穩定去世後衛的球隊獲頒行政普基一球莫爾費塔莫色雷斯取得的購買文學장工作隨夫懷柔區落入、上海的了。常務委員失蹤赫爾墨斯。。，特格隆治是如淨6、高左後衛，家治註疏黑眼睛麥羅埃國會議員德國祕魯學位於、組建於區著努阿契美尼，運動員杯足球6，英國哈維爾參加開明反映嗓音赫本奇拉賜1985之間阿道夫但字到。但2000十歲楊偉雄長榮魯里亞瑞典，生有所以成為並馬哲學史革命家陳兵友誼賽、特洛伊、王后，再回到西班牙、湖南年為止。蒙古，為。瑪麗、國家足球隊當選的精神為，決定他的國家機密類蕩和恩斯特戰役的意大利、迎駕獻上世上主演任命羅自此。接替。利亞皇后神八井耳命月的當作水域碼不敵魯健生動傷愈包括465形式公民的皇后擊敗中陳永華香港和代表隊，中國，置理威廉的時閹自學梅特雜誌拉莫斯哈耳摩長兄失敗換取兒子國王的的命一些產生豎美國'"
      ]
     },
     "execution_count": 1066,
     "metadata": {},
     "output_type": "execute_result"
    }
   ],
   "source": [
    "# 生成文章\n",
    "generate_next([idx2word(np.random.randint(vocab_size))], 250).replace(\" \", \"\")"
   ]
  },
  {
   "cell_type": "markdown",
   "metadata": {},
   "source": [
    "# 參考資料\n",
    "1. https://zake7749.github.io/2016/08/28/word2vec-with-gensim/\n",
    "2. https://gist.github.com/maxim5/c35ef2238ae708ccb0e55624e9e0252b\n",
    "3. https://machinelearningmastery.com/text-generation-lstm-recurrent-neural-networks-python-keras/\n",
    "4. https://www.jianshu.com/p/e19b96908c69"
   ]
  }
 ],
 "metadata": {
  "kernelspec": {
   "display_name": "Python [default]",
   "language": "python",
   "name": "python3"
  },
  "language_info": {
   "codemirror_mode": {
    "name": "ipython",
    "version": 3
   },
   "file_extension": ".py",
   "mimetype": "text/x-python",
   "name": "python",
   "nbconvert_exporter": "python",
   "pygments_lexer": "ipython3",
   "version": "3.5.5"
  }
 },
 "nbformat": 4,
 "nbformat_minor": 2
}
