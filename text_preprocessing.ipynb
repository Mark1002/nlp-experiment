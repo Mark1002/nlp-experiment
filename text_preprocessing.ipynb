{
 "cells": [
  {
   "cell_type": "code",
   "execution_count": 84,
   "metadata": {},
   "outputs": [],
   "source": [
    "import pandas as pd\n",
    "import numpy as np\n",
    "import jieba\n",
    "import matplotlib.pyplot as plt\n",
    "from pylab import rcParams\n",
    "from gensim.models import word2vec\n",
    "\n",
    "%matplotlib inline"
   ]
  },
  {
   "cell_type": "code",
   "execution_count": 85,
   "metadata": {},
   "outputs": [],
   "source": [
    "# Customizing plots with style \n",
    "rcParams['figure.figsize'] = 10, 5\n",
    "rcParams['lines.linewidth'] = 2\n",
    "plt.style.use('ggplot')"
   ]
  },
  {
   "cell_type": "markdown",
   "metadata": {},
   "source": [
    "# 載入文字資料"
   ]
  },
  {
   "cell_type": "code",
   "execution_count": 69,
   "metadata": {},
   "outputs": [],
   "source": [
    "with open(\"data/ref_text_tw.txt\", \"r\", encoding=\"utf-8\") as content:\n",
    "    document_list = [line.strip().replace(' ', '') for line in content]"
   ]
  },
  {
   "cell_type": "code",
   "execution_count": 70,
   "metadata": {},
   "outputs": [
    {
     "name": "stdout",
     "output_type": "stream",
     "text": [
      "['美希迪波路治一般稱作波路治，生於達爾貝達，摩洛哥職業足球運動員，現效力於美國職業足球大聯盟球會科羅拉多急流。', '羅利科隆出生於紐西蘭北島東北部吉斯伯恩，是一名英式足球足球運動員，司職前鋒前鋒，現時效力英甲球會斯坎索普聯足球俱樂部斯肯索普。', '他的機器實際上是在美國人口調查局的合約下完成的，製成後被用於1890年美國人口普查，普查工作因此得以在一年之內完成。', '石崎傳蔵，超級人瑞，曾是日本史上最年長男性。', '施世範，施琅第八子，襲封靖海侯。']\n",
      "total document num: 33868\n"
     ]
    }
   ],
   "source": [
    "print(document_list[:5])\n",
    "print(\"total document num: {}\".format(len(document_list)))"
   ]
  },
  {
   "cell_type": "markdown",
   "metadata": {},
   "source": [
    "# 結巴分詞"
   ]
  },
  {
   "cell_type": "code",
   "execution_count": 87,
   "metadata": {},
   "outputs": [
    {
     "name": "stderr",
     "output_type": "stream",
     "text": [
      "Building prefix dict from /Users/Mark1002/Desktop/project/python/nlp-experiment/data/jieba_dict/dict.txt.big ...\n",
      "Loading model from cache /var/folders/dw/m2zgs87j3x19nl8mnfy3fs8c0000gn/T/jieba.ud2b054c4d13e51557150f7d36ba5f4d0.cache\n",
      "Loading model cost 1.565 seconds.\n",
      "Prefix dict has been built succesfully.\n"
     ]
    }
   ],
   "source": [
    "# 用來存放分詞後的結果\n",
    "preprocessed_documents = []\n",
    "# stopword\n",
    "with open(\"data/jieba_dict/stopwords.txt\") as stop_words:\n",
    "    stop_word_list = [stop_word.strip() for stop_word in stop_words]\n",
    "# 支援繁體中文較好的詞庫\n",
    "jieba.set_dictionary(\"data/jieba_dict/dict.txt.big\")\n",
    "for document in document_list:\n",
    "    preprocessed_document = list(filter(lambda x: x not in stop_word_list, list(jieba.cut(document))))\n",
    "    preprocessed_documents.append(preprocessed_document)"
   ]
  },
  {
   "cell_type": "code",
   "execution_count": 94,
   "metadata": {},
   "outputs": [
    {
     "data": {
      "text/plain": [
       "[['美希迪波',\n",
       "  '路治',\n",
       "  '稱作',\n",
       "  '波路治',\n",
       "  '生於',\n",
       "  '達爾貝',\n",
       "  '達',\n",
       "  '摩洛哥',\n",
       "  '職業',\n",
       "  '足球',\n",
       "  '運動員',\n",
       "  '現',\n",
       "  '效力',\n",
       "  '美國',\n",
       "  '職業',\n",
       "  '足球',\n",
       "  '聯盟',\n",
       "  '球會',\n",
       "  '科羅拉多',\n",
       "  '急流'],\n",
       " ['羅利',\n",
       "  '科隆',\n",
       "  '生於',\n",
       "  '紐西蘭',\n",
       "  '北島',\n",
       "  '東北部',\n",
       "  '吉斯',\n",
       "  '伯恩',\n",
       "  '一名',\n",
       "  '英式足球',\n",
       "  '足球',\n",
       "  '運動員',\n",
       "  '司職',\n",
       "  '前鋒',\n",
       "  '前鋒',\n",
       "  '現時',\n",
       "  '效力',\n",
       "  '英甲',\n",
       "  '球會',\n",
       "  '斯坎索',\n",
       "  '普聯',\n",
       "  '足球',\n",
       "  '俱樂部',\n",
       "  '斯肯',\n",
       "  '索普'],\n",
       " ['機器',\n",
       "  '實際上',\n",
       "  '美國',\n",
       "  '人口',\n",
       "  '調查局',\n",
       "  '合約',\n",
       "  '下',\n",
       "  '完成',\n",
       "  '製成',\n",
       "  '後',\n",
       "  '用於',\n",
       "  '1890',\n",
       "  '年',\n",
       "  '美國',\n",
       "  '人口普查',\n",
       "  '普查',\n",
       "  '工作',\n",
       "  '得以',\n",
       "  '一年',\n",
       "  '之內',\n",
       "  '完成'],\n",
       " ['石崎傳', '蔵', '超級', '人瑞', '曾', '日本', '史上', '最', '年長', '男性'],\n",
       " ['施世範', '施琅', '第八', '子', '襲封', '靖海侯']]"
      ]
     },
     "execution_count": 94,
     "metadata": {},
     "output_type": "execute_result"
    }
   ],
   "source": [
    "# 此即為分詞處理好的 corpus\n",
    "preprocessed_documents[:5]"
   ]
  },
  {
   "cell_type": "markdown",
   "metadata": {},
   "source": [
    "# 使用 word2vec 訓練詞向量"
   ]
  },
  {
   "cell_type": "code",
   "execution_count": 182,
   "metadata": {},
   "outputs": [],
   "source": [
    "model = word2vec.Word2Vec(preprocessed_documents, min_count=5, window=10, sg=1)"
   ]
  },
  {
   "cell_type": "code",
   "execution_count": 183,
   "metadata": {},
   "outputs": [
    {
     "name": "stderr",
     "output_type": "stream",
     "text": [
      "/Users/Mark1002/anaconda/lib/python3.5/site-packages/gensim/matutils.py:737: FutureWarning: Conversion of the second argument of issubdtype from `int` to `np.signedinteger` is deprecated. In future, it will be treated as `np.int64 == np.dtype(int).type`.\n",
      "  if np.issubdtype(vec.dtype, np.int):\n"
     ]
    },
    {
     "data": {
      "text/plain": [
       "[('中國國民黨', 0.9730193614959717),\n",
       " ('嚴家淦', 0.9669686555862427),\n",
       " ('行政院長', 0.958059549331665),\n",
       " ('俞大維', 0.9467270374298096),\n",
       " ('蔣宋美', 0.9448749423027039),\n",
       " ('國民黨', 0.9440691471099854),\n",
       " ('齡', 0.93902587890625),\n",
       " ('連戰', 0.9381974935531616),\n",
       " ('財政部長', 0.9375262260437012),\n",
       " ('黨員', 0.9356803894042969),\n",
       " ('溪口鎮', 0.9353383779525757),\n",
       " ('廖承志', 0.9348427057266235),\n",
       " ('委員長', 0.9318337440490723),\n",
       " ('溫哈熊', 0.9316691160202026),\n",
       " ('辦公室', 0.9311628341674805),\n",
       " ('行政院', 0.9302505254745483),\n",
       " ('總統府', 0.9294823408126831),\n",
       " ('陳水扁', 0.9292728900909424),\n",
       " ('進步黨', 0.9292044639587402),\n",
       " ('地方法院', 0.928036093711853),\n",
       " ('國防部', 0.925341010093689),\n",
       " ('政務委員', 0.9249919652938843),\n",
       " ('副委員長', 0.9238590002059937),\n",
       " ('鄧小平', 0.923719048500061),\n",
       " ('卓琳', 0.9233074188232422),\n",
       " ('黨籍', 0.92230224609375),\n",
       " ('劉少奇', 0.921157717704773),\n",
       " ('臺灣省', 0.920414388179779),\n",
       " ('蔡令怡', 0.9198600053787231),\n",
       " ('蔣緯國', 0.9196578860282898),\n",
       " ('偕', 0.9176675081253052),\n",
       " ('中央政治局', 0.9173550605773926),\n",
       " ('開幕', 0.9172847270965576),\n",
       " ('周恩來', 0.915650486946106),\n",
       " ('中共中央政治局', 0.9156111478805542),\n",
       " ('老和尚', 0.9150923490524292),\n",
       " ('楊尚昆', 0.9138612151145935),\n",
       " ('蔡惠媚', 0.913066565990448),\n",
       " ('吳敦義', 0.913041889667511),\n",
       " ('親民黨', 0.912960946559906),\n",
       " ('軍委', 0.9129336476325989),\n",
       " ('周美青', 0.9119110107421875),\n",
       " ('全國人大常委會', 0.9118337631225586),\n",
       " ('中央書記處', 0.9117648005485535),\n",
       " ('公正', 0.9115126132965088),\n",
       " ('李光耀', 0.9105548858642578),\n",
       " ('孔令侃', 0.910236656665802),\n",
       " ('名譽主席', 0.9099791049957275),\n",
       " ('合影', 0.9097825884819031),\n",
       " ('立委', 0.9090173244476318)]"
      ]
     },
     "execution_count": 183,
     "metadata": {},
     "output_type": "execute_result"
    }
   ],
   "source": [
    "model.wv.most_similar(\"李登輝\", topn=50)"
   ]
  },
  {
   "cell_type": "code",
   "execution_count": 184,
   "metadata": {},
   "outputs": [
    {
     "name": "stderr",
     "output_type": "stream",
     "text": [
      "/Users/Mark1002/anaconda/lib/python3.5/site-packages/gensim/matutils.py:737: FutureWarning: Conversion of the second argument of issubdtype from `int` to `np.signedinteger` is deprecated. In future, it will be treated as `np.int64 == np.dtype(int).type`.\n",
      "  if np.issubdtype(vec.dtype, np.int):\n"
     ]
    },
    {
     "data": {
      "text/plain": [
       "[('女藝人', 0.9716603755950928),\n",
       " ('女歌手', 0.9592070579528809),\n",
       " ('大丈夫', 0.9567735195159912),\n",
       " ('蔡康永', 0.9560866355895996),\n",
       " ('歌唱家', 0.9541941285133362),\n",
       " ('宜農', 0.9537443518638611),\n",
       " ('出品', 0.9524412155151367),\n",
       " ('武術指導', 0.9518124461174011),\n",
       " ('歌仔戲', 0.9511821269989014),\n",
       " ('喜劇演員', 0.9499707221984863),\n",
       " ('梅志', 0.9492781162261963),\n",
       " ('主唱', 0.9475537538528442),\n",
       " ('孔維', 0.9475221037864685),\n",
       " ('曹健', 0.9464870095252991),\n",
       " ('亞洲電視', 0.9463304877281189),\n",
       " ('情侶', 0.9456354379653931),\n",
       " ('錢璐', 0.9453826546669006),\n",
       " ('老鑼', 0.945378839969635),\n",
       " ('一角', 0.9440475702285767),\n",
       " ('基隆市', 0.9432229995727539),\n",
       " ('武打', 0.9427039623260498),\n",
       " ('執業', 0.9425297975540161),\n",
       " ('搞笑', 0.9424272179603577),\n",
       " ('西卿', 0.9417906999588013),\n",
       " ('莉莉', 0.9417818188667297),\n",
       " ('大亨', 0.9413285255432129),\n",
       " ('首富', 0.93898606300354),\n",
       " ('豹', 0.9385206699371338),\n",
       " ('外景', 0.9384864568710327),\n",
       " ('牙醫', 0.9380735754966736),\n",
       " ('廚師', 0.9379085302352905),\n",
       " ('經紀人', 0.9378129243850708),\n",
       " ('編曲', 0.9375657439231873),\n",
       " ('知名演員', 0.9373290538787842),\n",
       " ('相聲', 0.9366596937179565),\n",
       " ('龍之介', 0.9366521835327148),\n",
       " ('譚俊彥', 0.9363777041435242),\n",
       " ('原創', 0.9363168478012085),\n",
       " ('龔', 0.935714602470398),\n",
       " ('曾用名', 0.9354902505874634),\n",
       " ('邵兵', 0.9354480504989624),\n",
       " ('曹啟', 0.9353786110877991),\n",
       " ('超群', 0.9352636337280273),\n",
       " ('多部', 0.9352574944496155),\n",
       " ('唱', 0.9352140426635742),\n",
       " ('王馨平', 0.9345380663871765),\n",
       " ('杜志國', 0.9341273307800293),\n",
       " ('揚名', 0.9337310194969177),\n",
       " ('合唱', 0.933544397354126),\n",
       " ('樂隊', 0.9332445859909058)]"
      ]
     },
     "execution_count": 184,
     "metadata": {},
     "output_type": "execute_result"
    }
   ],
   "source": [
    "model.wv.most_similar(\"男歌手\", topn=50)"
   ]
  },
  {
   "cell_type": "code",
   "execution_count": 185,
   "metadata": {},
   "outputs": [
    {
     "data": {
      "text/plain": [
       "100"
      ]
     },
     "execution_count": 185,
     "metadata": {},
     "output_type": "execute_result"
    }
   ],
   "source": [
    "model.wv.vector_size"
   ]
  },
  {
   "cell_type": "markdown",
   "metadata": {},
   "source": [
    "# 參考資料\n",
    "1. https://zake7749.github.io/2016/08/28/word2vec-with-gensim/\n",
    "2. https://gist.github.com/maxim5/c35ef2238ae708ccb0e55624e9e0252b\n",
    "3. https://machinelearningmastery.com/text-generation-lstm-recurrent-neural-networks-python-keras/"
   ]
  }
 ],
 "metadata": {
  "kernelspec": {
   "display_name": "Python [default]",
   "language": "python",
   "name": "python3"
  },
  "language_info": {
   "codemirror_mode": {
    "name": "ipython",
    "version": 3
   },
   "file_extension": ".py",
   "mimetype": "text/x-python",
   "name": "python",
   "nbconvert_exporter": "python",
   "pygments_lexer": "ipython3",
   "version": "3.5.4"
  }
 },
 "nbformat": 4,
 "nbformat_minor": 2
}
